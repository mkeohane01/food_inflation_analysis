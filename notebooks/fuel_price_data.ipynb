{
 "cells": [
  {
   "cell_type": "code",
   "execution_count": 71,
   "metadata": {},
   "outputs": [],
   "source": [
    "import pandas as pd\n",
    "import matplotlib.pyplot as plt\n",
    "import sqlite3\n",
    "from scipy import stats\n",
    "import numpy as np"
   ]
  },
  {
   "cell_type": "code",
   "execution_count": 72,
   "metadata": {},
   "outputs": [
    {
     "data": {
      "text/html": [
       "<div>\n",
       "<style scoped>\n",
       "    .dataframe tbody tr th:only-of-type {\n",
       "        vertical-align: middle;\n",
       "    }\n",
       "\n",
       "    .dataframe tbody tr th {\n",
       "        vertical-align: top;\n",
       "    }\n",
       "\n",
       "    .dataframe thead th {\n",
       "        text-align: right;\n",
       "    }\n",
       "</style>\n",
       "<table border=\"1\" class=\"dataframe\">\n",
       "  <thead>\n",
       "    <tr style=\"text-align: right;\">\n",
       "      <th></th>\n",
       "      <th>Year</th>\n",
       "      <th>Jan</th>\n",
       "      <th>Feb</th>\n",
       "      <th>Mar</th>\n",
       "      <th>Apr</th>\n",
       "      <th>May</th>\n",
       "      <th>Jun</th>\n",
       "      <th>Jul</th>\n",
       "      <th>Aug</th>\n",
       "      <th>Sep</th>\n",
       "      <th>Oct</th>\n",
       "      <th>Nov</th>\n",
       "      <th>Dec</th>\n",
       "    </tr>\n",
       "  </thead>\n",
       "  <tbody>\n",
       "    <tr>\n",
       "      <th>0</th>\n",
       "      <td>1990</td>\n",
       "      <td>NaN</td>\n",
       "      <td>NaN</td>\n",
       "      <td>NaN</td>\n",
       "      <td>NaN</td>\n",
       "      <td>NaN</td>\n",
       "      <td>NaN</td>\n",
       "      <td>NaN</td>\n",
       "      <td>NaN</td>\n",
       "      <td>1.258</td>\n",
       "      <td>1.335</td>\n",
       "      <td>1.324</td>\n",
       "      <td>NaN</td>\n",
       "    </tr>\n",
       "    <tr>\n",
       "      <th>1</th>\n",
       "      <td>1991</td>\n",
       "      <td>NaN</td>\n",
       "      <td>1.094</td>\n",
       "      <td>1.040</td>\n",
       "      <td>1.076</td>\n",
       "      <td>1.126</td>\n",
       "      <td>1.128</td>\n",
       "      <td>1.096</td>\n",
       "      <td>1.115</td>\n",
       "      <td>1.109</td>\n",
       "      <td>1.088</td>\n",
       "      <td>1.099</td>\n",
       "      <td>1.076</td>\n",
       "    </tr>\n",
       "    <tr>\n",
       "      <th>2</th>\n",
       "      <td>1992</td>\n",
       "      <td>1.022</td>\n",
       "      <td>1.006</td>\n",
       "      <td>1.013</td>\n",
       "      <td>1.052</td>\n",
       "      <td>1.107</td>\n",
       "      <td>1.145</td>\n",
       "      <td>1.137</td>\n",
       "      <td>1.122</td>\n",
       "      <td>1.122</td>\n",
       "      <td>1.114</td>\n",
       "      <td>1.111</td>\n",
       "      <td>1.078</td>\n",
       "    </tr>\n",
       "    <tr>\n",
       "      <th>3</th>\n",
       "      <td>1993</td>\n",
       "      <td>1.062</td>\n",
       "      <td>1.054</td>\n",
       "      <td>1.052</td>\n",
       "      <td>1.078</td>\n",
       "      <td>1.100</td>\n",
       "      <td>1.097</td>\n",
       "      <td>1.078</td>\n",
       "      <td>1.062</td>\n",
       "      <td>1.050</td>\n",
       "      <td>1.092</td>\n",
       "      <td>1.066</td>\n",
       "      <td>1.014</td>\n",
       "    </tr>\n",
       "    <tr>\n",
       "      <th>4</th>\n",
       "      <td>1994</td>\n",
       "      <td>0.998</td>\n",
       "      <td>1.009</td>\n",
       "      <td>1.008</td>\n",
       "      <td>1.027</td>\n",
       "      <td>1.047</td>\n",
       "      <td>1.078</td>\n",
       "      <td>1.106</td>\n",
       "      <td>1.155</td>\n",
       "      <td>1.144</td>\n",
       "      <td>1.114</td>\n",
       "      <td>1.116</td>\n",
       "      <td>1.091</td>\n",
       "    </tr>\n",
       "  </tbody>\n",
       "</table>\n",
       "</div>"
      ],
      "text/plain": [
       "   Year    Jan    Feb    Mar    Apr    May    Jun    Jul    Aug    Sep    Oct  \\\n",
       "0  1990    NaN    NaN    NaN    NaN    NaN    NaN    NaN    NaN  1.258  1.335   \n",
       "1  1991    NaN  1.094  1.040  1.076  1.126  1.128  1.096  1.115  1.109  1.088   \n",
       "2  1992  1.022  1.006  1.013  1.052  1.107  1.145  1.137  1.122  1.122  1.114   \n",
       "3  1993  1.062  1.054  1.052  1.078  1.100  1.097  1.078  1.062  1.050  1.092   \n",
       "4  1994  0.998  1.009  1.008  1.027  1.047  1.078  1.106  1.155  1.144  1.114   \n",
       "\n",
       "     Nov    Dec  \n",
       "0  1.324    NaN  \n",
       "1  1.099  1.076  \n",
       "2  1.111  1.078  \n",
       "3  1.066  1.014  \n",
       "4  1.116  1.091  "
      ]
     },
     "execution_count": 72,
     "metadata": {},
     "output_type": "execute_result"
    }
   ],
   "source": [
    "# Load the webscraped gas prices database\n",
    "gas_df = pd.read_csv('../data/gas_prices.csv')\n",
    "gas_df.head()"
   ]
  },
  {
   "cell_type": "code",
   "execution_count": 73,
   "metadata": {},
   "outputs": [
    {
     "name": "stdout",
     "output_type": "stream",
     "text": [
      "   Year    Jan    Feb    Mar    Apr    May    Jun    Jul    Aug    Sep    Oct  \\\n",
      "0  1990    NaN    NaN    NaN    NaN    NaN    NaN    NaN    NaN  1.258  1.335   \n",
      "1  1991  1.153  1.094  1.040  1.076  1.126  1.128  1.096  1.115  1.109  1.088   \n",
      "2  1992  1.022  1.006  1.013  1.052  1.107  1.145  1.137  1.122  1.122  1.114   \n",
      "3  1993  1.062  1.054  1.052  1.078  1.100  1.097  1.078  1.062  1.050  1.092   \n",
      "4  1994  0.998  1.009  1.008  1.027  1.047  1.078  1.106  1.155  1.144  1.114   \n",
      "\n",
      "     Nov    Dec  \n",
      "0  1.324  1.251  \n",
      "1  1.099  1.076  \n",
      "2  1.111  1.078  \n",
      "3  1.066  1.014  \n",
      "4  1.116  1.091  \n"
     ]
    }
   ],
   "source": [
    "# fill Dec 1990 and Jan 1991 with the average of surrounding values\n",
    "gas_df.loc[0,'Dec'] = np.round((gas_df.loc[0,'Oct'] + gas_df.loc[0,'Nov'] + gas_df.loc[1, 'Feb'])/3, 3)\n",
    "gas_df.loc[1,'Jan'] = np.round((gas_df.loc[0,'Nov'] + gas_df.loc[1,'Feb'] + gas_df.loc[1, 'Mar'])/3, 3)\n",
    "\n",
    "print(gas_df.head())"
   ]
  },
  {
   "cell_type": "code",
   "execution_count": 74,
   "metadata": {},
   "outputs": [
    {
     "name": "stdout",
     "output_type": "stream",
     "text": [
      "            Price\n",
      "Date             \n",
      "1990-09-01  1.258\n",
      "1990-10-01  1.335\n",
      "1990-11-01  1.324\n",
      "1990-12-01  1.251\n",
      "1991-01-01  1.153\n",
      "            Price\n",
      "Date             \n",
      "2023-06-01  3.571\n",
      "2023-07-01  3.597\n",
      "2023-08-01  3.840\n",
      "2023-09-01  3.836\n",
      "2023-10-01  3.613\n"
     ]
    }
   ],
   "source": [
    "# turn this data frame in to a time series with year and month as the index\n",
    "# Melt the DataFrame\n",
    "df_melted = gas_df.melt(id_vars=['Year'], var_name='Month', value_name='Price')\n",
    "\n",
    "# Create a 'Date' column\n",
    "df_melted['Date'] = pd.to_datetime(df_melted['Year'].astype(str) + df_melted['Month'], format='%Y%b')\n",
    "\n",
    "# Drop redundant columns\n",
    "gas_df_ts = df_melted.drop(['Year', 'Month'], axis=1)\n",
    "\n",
    "# Sort the DataFrame\n",
    "gas_df_ts = gas_df_ts.sort_values('Date')\n",
    "\n",
    "# drop nans\n",
    "gas_df_ts = gas_df_ts.dropna()\n",
    "\n",
    "# set the index to the date\n",
    "gas_df_ts = gas_df_ts.set_index('Date')\n",
    "\n",
    "# Display the transformed DataFrame\n",
    "print(gas_df_ts.head())\n",
    "print(gas_df_ts.tail())"
   ]
  },
  {
   "cell_type": "code",
   "execution_count": 75,
   "metadata": {},
   "outputs": [
    {
     "data": {
      "image/png": "[encoded data removed]",
      "text/plain": [
       "<Figure size 640x480 with 1 Axes>"
      ]
     },
     "metadata": {},
     "output_type": "display_data"
    }
   ],
   "source": [
    "# plot the data with title and axis labels\n",
    "gas_df_ts.plot()\n",
    "plt.title('Gas Prices Over Time in US')\n",
    "plt.xlabel('Date')\n",
    "plt.ylabel('Price')\n",
    "plt.show()"
   ]
  },
  {
   "cell_type": "code",
   "execution_count": 76,
   "metadata": {},
   "outputs": [],
   "source": [
    "# Connect to the database\n",
    "conn = sqlite3.connect('../food_inflation_analysis.db')\n",
    "# load the food inflation data\n",
    "query = '''SELECT * FROM OCED_USA_FOOD_INFLATION'''\n",
    "cpi_food_data = pd.read_sql(query, conn)\n",
    "cpi_food_data.index = pd.to_datetime(cpi_food_data['Date'])\n",
    "cpi_food_data = cpi_food_data.drop('Date', axis=1)\n",
    "# Close the connection\n",
    "conn.close()"
   ]
  },
  {
   "cell_type": "code",
   "execution_count": 78,
   "metadata": {},
   "outputs": [
    {
     "name": "stdout",
     "output_type": "stream",
     "text": [
      "Correlation between gas prices and food inflation:  0.2653541218953633\n",
      "Correlation between gas prices and food inflation with lag 1:  0.28186111633521965\n",
      "Correlation between gas prices and food inflation with lag 2:  0.29755144446444926\n",
      "Correlation between gas prices and food inflation with lag 3:  0.30927837905164346\n",
      "Correlation between gas prices and food inflation with lag 4:  0.31662941958879115\n",
      "Correlation between gas prices and food inflation with lag 5:  0.316412256105472\n",
      "Correlation between gas prices and food inflation with lag 6:  0.3074628465516054\n",
      "Correlation between gas prices and food inflation with lag 7:  0.2920212881330489\n",
      "Correlation between gas prices and food inflation with lag 8:  0.27328472339797605\n",
      "Correlation between gas prices and food inflation with lag 9:  0.2496891063518472\n",
      "Correlation between gas prices and food inflation with lag 10:  0.22113738680207182\n",
      "Correlation between gas prices and food inflation with lag 11:  0.1893374108185178\n",
      "Correlation between gas prices and food inflation with lag 12:  0.15396718837564607\n"
     ]
    }
   ],
   "source": [
    "# get the inflation data for the same time period as the gas prices\n",
    "cpi_food_data = cpi_food_data[cpi_food_data.index >= gas_df_ts.index.min()]\n",
    "gas_price_data = gas_df_ts[gas_df_ts.index <= cpi_food_data.index.max()]\n",
    "\n",
    "# get the correlation between the two data sets\n",
    "corr = gas_price_data['Price'].corr(cpi_food_data['CPI'])\n",
    "print('Correlation between gas prices and food inflation: ', corr)\n",
    "\n",
    "lag = [1, 2, 3, 4, 5, 6, 7, 8, 9, 10, 11, 12]\n",
    "for i in lag:\n",
    "    corr = gas_price_data['Price'].shift(i).corr(cpi_food_data['CPI'])\n",
    "    print(f'Correlation between gas prices and food inflation with lag {i}: ', corr)\n",
    "    # get the number of observations\n",
    "    n = len(gas_price_data['Price'].shift(i))\n",
    "\n",
    "    # get the t critical value\n",
    "    t_crit = stats.t.ppf(0.975, n-2)\n",
    "\n",
    "    # get the standard error\n",
    "    se = np.sqrt((1-corr**2)/(n-2))\n",
    "\n",
    "    # get the margin of error\n",
    "    moe = t_crit*se\n",
    "\n",
    "    # get the confidence interval\n",
    "    ci = (corr-moe, corr+moe)\n",
    "    # print('Confidence interval for the correlation: ', ci)\n",
    "    "
   ]
  },
  {
   "cell_type": "code",
   "execution_count": 79,
   "metadata": {},
   "outputs": [
    {
     "name": "stdout",
     "output_type": "stream",
     "text": [
      "            Price_lag_1  Price_lag_2  Price_lag_3  Price_lag_4  Price_lag_5  \\\n",
      "Date                                                                          \n",
      "1990-09-01          NaN          NaN          NaN          NaN          NaN   \n",
      "1990-10-01        1.258          NaN          NaN          NaN          NaN   \n",
      "1990-11-01        1.335        1.258          NaN          NaN          NaN   \n",
      "1990-12-01        1.324        1.335        1.258          NaN          NaN   \n",
      "1991-01-01        1.251        1.324        1.335        1.258          NaN   \n",
      "1991-02-01        1.153        1.251        1.324        1.335        1.258   \n",
      "1991-03-01        1.094        1.153        1.251        1.324        1.335   \n",
      "1991-04-01        1.040        1.094        1.153        1.251        1.324   \n",
      "\n",
      "            Price_lag_6  \n",
      "Date                     \n",
      "1990-09-01          NaN  \n",
      "1990-10-01          NaN  \n",
      "1990-11-01          NaN  \n",
      "1990-12-01          NaN  \n",
      "1991-01-01          NaN  \n",
      "1991-02-01          NaN  \n",
      "1991-03-01        1.258  \n",
      "1991-04-01        1.335  \n"
     ]
    }
   ],
   "source": [
    "# Create a dataframe with lagged values 1-6\n",
    "gas_price_data_lagged = pd.DataFrame()\n",
    "for i in range(1,7):\n",
    "    gas_price_data_lagged[f'Price_lag_{i}'] = gas_price_data['Price'].shift(i)\n",
    "\n",
    "# print\n",
    "print(gas_price_data_lagged.head(8))"
   ]
  },
  {
   "cell_type": "code",
   "execution_count": 81,
   "metadata": {},
   "outputs": [
    {
     "name": "stdout",
     "output_type": "stream",
     "text": [
      "[('DOW_JONES_REAL',), ('USA_MEAT_EXPORT_IMPORT',), ('interest_rate',), ('food_production',), ('OCED_USA_FOOD_INFLATION',), ('gas_prices',)]\n"
     ]
    }
   ],
   "source": [
    "# save the lagged data to database\n",
    "conn = sqlite3.connect('../food_inflation_analysis.db')\n",
    "gas_price_data_lagged.to_sql('gas_prices', conn, if_exists='replace')\n",
    "# get a list of all the tables\n",
    "c = conn.cursor()\n",
    "c.execute('''SELECT name FROM sqlite_master WHERE type='table';''')\n",
    "print(c.fetchall())\n",
    "conn.close()"
   ]
  },
  {
   "cell_type": "code",
   "execution_count": null,
   "metadata": {},
   "outputs": [],
   "source": []
  }
 ],
 "metadata": {
  "kernelspec": {
   "display_name": ".venv",
   "language": "python",
   "name": "python3"
  },
  "language_info": {
   "codemirror_mode": {
    "name": "ipython",
    "version": 3
   },
   "file_extension": ".py",
   "mimetype": "text/x-python",
   "name": "python",
   "nbconvert_exporter": "python",
   "pygments_lexer": "ipython3",
   "version": "3.10.10"
  }
 },
 "nbformat": 4,
 "nbformat_minor": 2
}
